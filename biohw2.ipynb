{
  "nbformat": 4,
  "nbformat_minor": 0,
  "metadata": {
    "colab": {
      "name": "biohw2",
      "provenance": [],
      "collapsed_sections": [],
      "include_colab_link": true
    },
    "kernelspec": {
      "name": "python3",
      "display_name": "Python 3"
    },
    "language_info": {
      "name": "python"
    },
    "accelerator": "GPU"
  },
  "cells": [
    {
      "cell_type": "markdown",
      "metadata": {
        "id": "view-in-github",
        "colab_type": "text"
      },
      "source": [
        "<a href=\"https://colab.research.google.com/github/InfJoker/hse21_H2AFZ_ZDNA_human/blob/master/biohw2.ipynb\" target=\"_parent\"><img src=\"https://colab.research.google.com/assets/colab-badge.svg\" alt=\"Open In Colab\"/></a>"
      ]
    },
    {
      "cell_type": "code",
      "metadata": {
        "id": "unVWl4iGNz_P",
        "colab": {
          "base_uri": "https://localhost:8080/"
        },
        "outputId": "44d89e04-e753-4b2f-b1f5-0b2c0c717903"
      },
      "source": [
        "!wget https://raw.githubusercontent.com/InfJoker/hse21_H2AFZ_ZDNA_human/master/data/H2AFZ_H1.intersect_with_DeepZ.bed  # я работаю в коллабе"
      ],
      "execution_count": 3,
      "outputs": [
        {
          "output_type": "stream",
          "name": "stdout",
          "text": [
            "--2021-12-01 19:45:38--  https://raw.githubusercontent.com/InfJoker/hse21_H2AFZ_ZDNA_human/master/data/H2AFZ_H1.intersect_with_DeepZ.bed\n",
            "Resolving raw.githubusercontent.com (raw.githubusercontent.com)... 185.199.108.133, 185.199.110.133, 185.199.111.133, ...\n",
            "Connecting to raw.githubusercontent.com (raw.githubusercontent.com)|185.199.108.133|:443... connected.\n",
            "HTTP request sent, awaiting response... 200 OK\n",
            "Length: 196550 (192K) [text/plain]\n",
            "Saving to: ‘H2AFZ_H1.intersect_with_DeepZ.bed’\n",
            "\n",
            "H2AFZ_H1.intersect_ 100%[===================>] 191.94K  --.-KB/s    in 0.02s   \n",
            "\n",
            "2021-12-01 19:45:38 (8.07 MB/s) - ‘H2AFZ_H1.intersect_with_DeepZ.bed’ saved [196550/196550]\n",
            "\n"
          ]
        }
      ]
    },
    {
      "cell_type": "code",
      "metadata": {
        "colab": {
          "base_uri": "https://localhost:8080/"
        },
        "id": "lZjU9ycg06Tl",
        "outputId": "116aa0da-3fcc-4528-c283-48e673f71e9e"
      },
      "source": [
        "!apt-get install bedtools"
      ],
      "execution_count": 4,
      "outputs": [
        {
          "output_type": "stream",
          "name": "stdout",
          "text": [
            "Reading package lists... Done\n",
            "Building dependency tree       \n",
            "Reading state information... Done\n",
            "The following NEW packages will be installed:\n",
            "  bedtools\n",
            "0 upgraded, 1 newly installed, 0 to remove and 37 not upgraded.\n",
            "Need to get 577 kB of archives.\n",
            "After this operation, 2,040 kB of additional disk space will be used.\n",
            "Get:1 http://archive.ubuntu.com/ubuntu bionic/universe amd64 bedtools amd64 2.26.0+dfsg-5 [577 kB]\n",
            "Fetched 577 kB in 1s (656 kB/s)\n",
            "Selecting previously unselected package bedtools.\n",
            "(Reading database ... 155222 files and directories currently installed.)\n",
            "Preparing to unpack .../bedtools_2.26.0+dfsg-5_amd64.deb ...\n",
            "Unpacking bedtools (2.26.0+dfsg-5) ...\n",
            "Setting up bedtools (2.26.0+dfsg-5) ...\n"
          ]
        }
      ]
    },
    {
      "cell_type": "code",
      "metadata": {
        "id": "unhAhe4rnfIP"
      },
      "source": [
        "import pandas as pd\n",
        "from sklearn.model_selection import train_test_split"
      ],
      "execution_count": 93,
      "outputs": []
    },
    {
      "cell_type": "markdown",
      "metadata": {
        "id": "UV8r2hhT0et-"
      },
      "source": [
        "#Скачаем seq гена в формате 2bit и переведем в fa"
      ]
    },
    {
      "cell_type": "code",
      "metadata": {
        "colab": {
          "base_uri": "https://localhost:8080/"
        },
        "id": "DXtE2S0Zs0Vc",
        "outputId": "3f9685b8-06cd-48b0-a398-3ed6722da680"
      },
      "source": [
        "!wget https://hgdownload.soe.ucsc.edu/gbdb/hg19/hg19.2bit"
      ],
      "execution_count": 5,
      "outputs": [
        {
          "output_type": "stream",
          "name": "stdout",
          "text": [
            "--2021-12-01 19:45:44--  https://hgdownload.soe.ucsc.edu/gbdb/hg19/hg19.2bit\n",
            "Resolving hgdownload.soe.ucsc.edu (hgdownload.soe.ucsc.edu)... 128.114.119.163\n",
            "Connecting to hgdownload.soe.ucsc.edu (hgdownload.soe.ucsc.edu)|128.114.119.163|:443... connected.\n",
            "HTTP request sent, awaiting response... 200 OK\n",
            "Length: 841718057 (803M)\n",
            "Saving to: ‘hg19.2bit’\n",
            "\n",
            "hg19.2bit           100%[===================>] 802.72M  50.7MB/s    in 16s     \n",
            "\n",
            "2021-12-01 19:46:01 (49.0 MB/s) - ‘hg19.2bit’ saved [841718057/841718057]\n",
            "\n"
          ]
        }
      ]
    },
    {
      "cell_type": "code",
      "metadata": {
        "colab": {
          "base_uri": "https://localhost:8080/"
        },
        "id": "oRpdgjEXzfde",
        "outputId": "a726ca92-dc76-4131-8cf6-2626ce1cf41a"
      },
      "source": [
        "!wget http://hgdownload.soe.ucsc.edu/admin/exe/linux.x86_64.v385/twoBitToFa"
      ],
      "execution_count": 6,
      "outputs": [
        {
          "output_type": "stream",
          "name": "stdout",
          "text": [
            "--2021-12-01 19:46:01--  http://hgdownload.soe.ucsc.edu/admin/exe/linux.x86_64.v385/twoBitToFa\n",
            "Resolving hgdownload.soe.ucsc.edu (hgdownload.soe.ucsc.edu)... 128.114.119.163\n",
            "Connecting to hgdownload.soe.ucsc.edu (hgdownload.soe.ucsc.edu)|128.114.119.163|:80... connected.\n",
            "HTTP request sent, awaiting response... 200 OK\n",
            "Length: 5886832 (5.6M)\n",
            "Saving to: ‘twoBitToFa’\n",
            "\n",
            "twoBitToFa          100%[===================>]   5.61M  12.0MB/s    in 0.5s    \n",
            "\n",
            "2021-12-01 19:46:01 (12.0 MB/s) - ‘twoBitToFa’ saved [5886832/5886832]\n",
            "\n"
          ]
        }
      ]
    },
    {
      "cell_type": "code",
      "metadata": {
        "id": "kXn8LzLNzn1e"
      },
      "source": [
        "!chmod +x twoBitToFa"
      ],
      "execution_count": 7,
      "outputs": []
    },
    {
      "cell_type": "code",
      "metadata": {
        "id": "HY2fr5_AziKv"
      },
      "source": [
        "!./twoBitToFa 'hg19.2bit' hg19.fa"
      ],
      "execution_count": 8,
      "outputs": []
    },
    {
      "cell_type": "code",
      "metadata": {
        "colab": {
          "base_uri": "https://localhost:8080/"
        },
        "id": "BMMomgay0RoQ",
        "outputId": "47529f9d-4e58-401a-e2dd-df3cb564f28d"
      },
      "source": [
        "!tail hg19.fa"
      ],
      "execution_count": null,
      "outputs": [
        {
          "output_type": "stream",
          "name": "stdout",
          "text": [
            "TTACTGCCAGCCACCATGAATATTGTACGGTACCATAAATACTTGACCAC\n",
            "CTGTAGTACATAAAAACCCAATCCACATCAAAACCCCCTCCCCATGCTTA\n",
            "CAAGcaagtacagcaatcaaccctcaactatcacacatcaactgcaactC\n",
            "CAAAGCCACCCCTCACCCACTAGGATACCAACAAACCTACCCACCCTTAA\n",
            "CAGTACATAGTACATAAAGCCATTTACCGTACATAGCACATTACAGTCAA\n",
            "ATCCCTTCTCGTCCCCATGGATGACCCCCCTCAGATAGGGGTCCCTTGAC\n",
            "CACCATCCTCCGTGAAATCAATATCCCGCACAAGAGTGCTACTCTCCTCG\n",
            "CTCCGGGCCCATAACACTTGGGGGTAGCTAAAGTGAACTGTATCCGACAT\n",
            "CTGGTTCCTACTTCAGGGTCATAAAGCCTAAATAGCCCACACGTTCCCCT\n",
            "TAAATAAGACATCACGATG\n"
          ]
        }
      ]
    },
    {
      "cell_type": "markdown",
      "metadata": {
        "id": "OucwoAQmmsVt"
      },
      "source": [
        "#Выберем положительные участки"
      ]
    },
    {
      "cell_type": "markdown",
      "metadata": {
        "id": "-ZGEmCsSn7rA"
      },
      "source": [
        "Заметим, из прошлых результатов имеем, что участков длины 100 очень мало. Поэтому возьмем хотя-бы 250"
      ]
    },
    {
      "cell_type": "code",
      "metadata": {
        "id": "unta2ktfoZ3r"
      },
      "source": [
        "LENGTH = 1000"
      ],
      "execution_count": 26,
      "outputs": []
    },
    {
      "cell_type": "code",
      "metadata": {
        "id": "ADO1tunemp-O"
      },
      "source": [
        "def make_one_length(data):\n",
        "    data = data.copy()[[0, 1, 2]]\n",
        "    data[\"center\"] = ((data[2] + data[1])/2).astype(\"int64\")\n",
        "    data[1] = data[\"center\"] - (LENGTH // 2)\n",
        "    data[2] = data[\"center\"] + (LENGTH // 2)\n",
        "    return data.drop(columns=[\"center\"])"
      ],
      "execution_count": 66,
      "outputs": []
    },
    {
      "cell_type": "code",
      "metadata": {
        "id": "Z8zeda1dnbtv"
      },
      "source": [
        "intersect = pd.read_csv('H2AFZ_H1.intersect_with_DeepZ.bed', sep='\\t', comment='t', header=None)"
      ],
      "execution_count": 34,
      "outputs": []
    },
    {
      "cell_type": "code",
      "metadata": {
        "colab": {
          "base_uri": "https://localhost:8080/",
          "height": 206
        },
        "id": "dHJ3-dEGnbxC",
        "outputId": "15a75537-7d6d-46cc-eb0d-cce76a867e78"
      },
      "source": [
        "intersect.tail()"
      ],
      "execution_count": 35,
      "outputs": [
        {
          "output_type": "execute_result",
          "data": {
            "text/html": [
              "<div>\n",
              "<style scoped>\n",
              "    .dataframe tbody tr th:only-of-type {\n",
              "        vertical-align: middle;\n",
              "    }\n",
              "\n",
              "    .dataframe tbody tr th {\n",
              "        vertical-align: top;\n",
              "    }\n",
              "\n",
              "    .dataframe thead th {\n",
              "        text-align: right;\n",
              "    }\n",
              "</style>\n",
              "<table border=\"1\" class=\"dataframe\">\n",
              "  <thead>\n",
              "    <tr style=\"text-align: right;\">\n",
              "      <th></th>\n",
              "      <th>0</th>\n",
              "      <th>1</th>\n",
              "      <th>2</th>\n",
              "    </tr>\n",
              "  </thead>\n",
              "  <tbody>\n",
              "    <tr>\n",
              "      <th>8223</th>\n",
              "      <td>chrM</td>\n",
              "      <td>3388</td>\n",
              "      <td>3400</td>\n",
              "    </tr>\n",
              "    <tr>\n",
              "      <th>8224</th>\n",
              "      <td>chrM</td>\n",
              "      <td>12845</td>\n",
              "      <td>12923</td>\n",
              "    </tr>\n",
              "    <tr>\n",
              "      <th>8225</th>\n",
              "      <td>chrM</td>\n",
              "      <td>15684</td>\n",
              "      <td>15835</td>\n",
              "    </tr>\n",
              "    <tr>\n",
              "      <th>8226</th>\n",
              "      <td>chrM</td>\n",
              "      <td>15958</td>\n",
              "      <td>16271</td>\n",
              "    </tr>\n",
              "    <tr>\n",
              "      <th>8227</th>\n",
              "      <td>chrM</td>\n",
              "      <td>16353</td>\n",
              "      <td>16565</td>\n",
              "    </tr>\n",
              "  </tbody>\n",
              "</table>\n",
              "</div>"
            ],
            "text/plain": [
              "         0      1      2\n",
              "8223  chrM   3388   3400\n",
              "8224  chrM  12845  12923\n",
              "8225  chrM  15684  15835\n",
              "8226  chrM  15958  16271\n",
              "8227  chrM  16353  16565"
            ]
          },
          "metadata": {},
          "execution_count": 35
        }
      ]
    },
    {
      "cell_type": "code",
      "metadata": {
        "id": "xB-Bl0HSotkS"
      },
      "source": [
        "make_one_length(intersect).to_csv('positive.bed', sep ='\\t', header=None, index=None)"
      ],
      "execution_count": 41,
      "outputs": []
    },
    {
      "cell_type": "code",
      "metadata": {
        "colab": {
          "base_uri": "https://localhost:8080/"
        },
        "id": "zUWjW0wGqW6O",
        "outputId": "0fd52a2a-00a0-4b74-a321-d073a665206a"
      },
      "source": [
        "!bedtools getfasta -fi hg19.fa -bed positive.bed -fo positive.fa"
      ],
      "execution_count": 42,
      "outputs": [
        {
          "output_type": "stream",
          "name": "stdout",
          "text": [
            "Feature (chrM:16334-16584) beyond the length of chrM size (16571 bp).  Skipping.\n"
          ]
        }
      ]
    },
    {
      "cell_type": "code",
      "metadata": {
        "id": "GzasrRCktp_a"
      },
      "source": [
        "positive_name = 'positive.fa'"
      ],
      "execution_count": 83,
      "outputs": []
    },
    {
      "cell_type": "markdown",
      "metadata": {
        "id": "D0_QzD9Ejnvd"
      },
      "source": [
        "#Выберем участки, которые не входят ни в метку ни в побочную структуру"
      ]
    },
    {
      "cell_type": "code",
      "metadata": {
        "colab": {
          "base_uri": "https://localhost:8080/"
        },
        "id": "c9ia0TtdjnIN",
        "outputId": "25bcf51b-32e8-4581-d80f-552d730a0b79"
      },
      "source": [
        "!wget https://raw.githubusercontent.com/InfJoker/hse21_H2AFZ_ZDNA_human/master/data/DeepZ.bed\n",
        "!wget https://raw.githubusercontent.com/InfJoker/hse21_H2AFZ_ZDNA_human/master/data/H2AFZ_H1.ENCFF136ECI.hg19.bed\n",
        "!wget https://raw.githubusercontent.com/InfJoker/hse21_H2AFZ_ZDNA_human/master/data/H2AFZ_H1.ENCFF945OSD.hg19.bed\n",
        "!wget https://raw.githubusercontent.com/InfJoker/hse21_H2AFZ_ZDNA_human/master/data/h19_whole.bed"
      ],
      "execution_count": 16,
      "outputs": [
        {
          "output_type": "stream",
          "name": "stdout",
          "text": [
            "--2021-12-01 20:03:59--  https://raw.githubusercontent.com/InfJoker/hse21_H2AFZ_ZDNA_human/master/data/DeepZ.bed\n",
            "Resolving raw.githubusercontent.com (raw.githubusercontent.com)... 185.199.108.133, 185.199.109.133, 185.199.110.133, ...\n",
            "Connecting to raw.githubusercontent.com (raw.githubusercontent.com)|185.199.108.133|:443... connected.\n",
            "HTTP request sent, awaiting response... 200 OK\n",
            "Length: 461744 (451K) [text/plain]\n",
            "Saving to: ‘DeepZ.bed.1’\n",
            "\n",
            "DeepZ.bed.1         100%[===================>] 450.92K  --.-KB/s    in 0.04s   \n",
            "\n",
            "2021-12-01 20:03:59 (11.7 MB/s) - ‘DeepZ.bed.1’ saved [461744/461744]\n",
            "\n",
            "--2021-12-01 20:03:59--  https://raw.githubusercontent.com/InfJoker/hse21_H2AFZ_ZDNA_human/master/data/H2AFZ_H1.ENCFF136ECI.hg19.bed\n",
            "Resolving raw.githubusercontent.com (raw.githubusercontent.com)... 185.199.108.133, 185.199.110.133, 185.199.111.133, ...\n",
            "Connecting to raw.githubusercontent.com (raw.githubusercontent.com)|185.199.108.133|:443... connected.\n",
            "HTTP request sent, awaiting response... 200 OK\n",
            "Length: 9260061 (8.8M) [text/plain]\n",
            "Saving to: ‘H2AFZ_H1.ENCFF136ECI.hg19.bed.1’\n",
            "\n",
            "H2AFZ_H1.ENCFF136EC 100%[===================>]   8.83M  --.-KB/s    in 0.1s    \n",
            "\n",
            "2021-12-01 20:03:59 (87.2 MB/s) - ‘H2AFZ_H1.ENCFF136ECI.hg19.bed.1’ saved [9260061/9260061]\n",
            "\n",
            "--2021-12-01 20:03:59--  https://raw.githubusercontent.com/InfJoker/hse21_H2AFZ_ZDNA_human/master/data/H2AFZ_H1.ENCFF945OSD.hg19.bed\n",
            "Resolving raw.githubusercontent.com (raw.githubusercontent.com)... 185.199.109.133, 185.199.110.133, 185.199.108.133, ...\n",
            "Connecting to raw.githubusercontent.com (raw.githubusercontent.com)|185.199.109.133|:443... connected.\n",
            "HTTP request sent, awaiting response... 200 OK\n",
            "Length: 6360439 (6.1M) [text/plain]\n",
            "Saving to: ‘H2AFZ_H1.ENCFF945OSD.hg19.bed.1’\n",
            "\n",
            "H2AFZ_H1.ENCFF945OS 100%[===================>]   6.07M  --.-KB/s    in 0.09s   \n",
            "\n",
            "2021-12-01 20:03:59 (68.9 MB/s) - ‘H2AFZ_H1.ENCFF945OSD.hg19.bed.1’ saved [6360439/6360439]\n",
            "\n",
            "--2021-12-01 20:03:59--  https://raw.githubusercontent.com/InfJoker/hse21_H2AFZ_ZDNA_human/master/data/h19_whole.bed\n",
            "Resolving raw.githubusercontent.com (raw.githubusercontent.com)... 185.199.108.133, 185.199.109.133, 185.199.110.133, ...\n",
            "Connecting to raw.githubusercontent.com (raw.githubusercontent.com)|185.199.108.133|:443... connected.\n",
            "HTTP request sent, awaiting response... 200 OK\n",
            "Length: 14247271 (14M) [text/plain]\n",
            "Saving to: ‘h19_whole.bed.1’\n",
            "\n",
            "h19_whole.bed.1     100%[===================>]  13.59M  --.-KB/s    in 0.1s    \n",
            "\n",
            "2021-12-01 20:04:00 (105 MB/s) - ‘h19_whole.bed.1’ saved [14247271/14247271]\n",
            "\n"
          ]
        }
      ]
    },
    {
      "cell_type": "code",
      "metadata": {
        "id": "ytWJakHpkaml"
      },
      "source": [
        "!bedtools subtract -a h19_whole.bed -b H2AFZ_H1.ENCFF945OSD.hg19.bed > without_histone_1.bed"
      ],
      "execution_count": 51,
      "outputs": []
    },
    {
      "cell_type": "code",
      "metadata": {
        "id": "_DpY-ObClpSa"
      },
      "source": [
        "!bedtools subtract -a without_histone_1.bed -b H2AFZ_H1.ENCFF136ECI.hg19.bed > without_histones.bed"
      ],
      "execution_count": 52,
      "outputs": []
    },
    {
      "cell_type": "code",
      "metadata": {
        "id": "MEqmh-wolx2m"
      },
      "source": [
        "!bedtools subtract -a without_histones.bed -b DeepZ.bed > negative_candidates.bed"
      ],
      "execution_count": 53,
      "outputs": []
    },
    {
      "cell_type": "code",
      "metadata": {
        "id": "fwb4bcC3mm1j"
      },
      "source": [
        "candidates = pd.read_csv('negative_candidates.bed', sep='\\t', comment='t', header=None).dropna()"
      ],
      "execution_count": 71,
      "outputs": []
    },
    {
      "cell_type": "code",
      "metadata": {
        "id": "9v6HV5Symm34"
      },
      "source": [
        "negative = make_one_length(candidates).sample(2 * len(intersect))"
      ],
      "execution_count": 75,
      "outputs": []
    },
    {
      "cell_type": "code",
      "metadata": {
        "colab": {
          "base_uri": "https://localhost:8080/",
          "height": 206
        },
        "id": "WE4QOedHmm5X",
        "outputId": "258a0f27-228d-4b2d-ad8c-42a4734ae9d3"
      },
      "source": [
        "negative.head()"
      ],
      "execution_count": 79,
      "outputs": [
        {
          "output_type": "execute_result",
          "data": {
            "text/html": [
              "<div>\n",
              "<style scoped>\n",
              "    .dataframe tbody tr th:only-of-type {\n",
              "        vertical-align: middle;\n",
              "    }\n",
              "\n",
              "    .dataframe tbody tr th {\n",
              "        vertical-align: top;\n",
              "    }\n",
              "\n",
              "    .dataframe thead th {\n",
              "        text-align: right;\n",
              "    }\n",
              "</style>\n",
              "<table border=\"1\" class=\"dataframe\">\n",
              "  <thead>\n",
              "    <tr style=\"text-align: right;\">\n",
              "      <th></th>\n",
              "      <th>0</th>\n",
              "      <th>1</th>\n",
              "      <th>2</th>\n",
              "    </tr>\n",
              "  </thead>\n",
              "  <tbody>\n",
              "    <tr>\n",
              "      <th>353370</th>\n",
              "      <td>chr11</td>\n",
              "      <td>85098200</td>\n",
              "      <td>85098450</td>\n",
              "    </tr>\n",
              "    <tr>\n",
              "      <th>222632</th>\n",
              "      <td>chr6</td>\n",
              "      <td>42855061</td>\n",
              "      <td>42855311</td>\n",
              "    </tr>\n",
              "    <tr>\n",
              "      <th>350328</th>\n",
              "      <td>chr10</td>\n",
              "      <td>112678811</td>\n",
              "      <td>112679061</td>\n",
              "    </tr>\n",
              "    <tr>\n",
              "      <th>190434</th>\n",
              "      <td>chr5</td>\n",
              "      <td>35055400</td>\n",
              "      <td>35055650</td>\n",
              "    </tr>\n",
              "    <tr>\n",
              "      <th>461412</th>\n",
              "      <td>chr16</td>\n",
              "      <td>30543501</td>\n",
              "      <td>30543751</td>\n",
              "    </tr>\n",
              "  </tbody>\n",
              "</table>\n",
              "</div>"
            ],
            "text/plain": [
              "            0          1          2\n",
              "353370  chr11   85098200   85098450\n",
              "222632   chr6   42855061   42855311\n",
              "350328  chr10  112678811  112679061\n",
              "190434   chr5   35055400   35055650\n",
              "461412  chr16   30543501   30543751"
            ]
          },
          "metadata": {},
          "execution_count": 79
        }
      ]
    },
    {
      "cell_type": "code",
      "metadata": {
        "id": "uOwNZy80slmi"
      },
      "source": [
        "negative.to_csv('negative.bed', sep ='\\t', header=None, index=None)"
      ],
      "execution_count": 80,
      "outputs": []
    },
    {
      "cell_type": "code",
      "metadata": {
        "id": "FB9CiKdZmm6o"
      },
      "source": [
        "!bedtools getfasta -fi hg19.fa -bed negative.bed -fo negative.fa"
      ],
      "execution_count": 81,
      "outputs": []
    },
    {
      "cell_type": "code",
      "metadata": {
        "id": "1Jz8aZHdmm-M"
      },
      "source": [
        "negative_name = 'negative.fa'"
      ],
      "execution_count": 82,
      "outputs": []
    },
    {
      "cell_type": "markdown",
      "metadata": {
        "id": "Gfwrtypisdg6"
      },
      "source": [
        "#Теперь переиспользуем код"
      ]
    },
    {
      "cell_type": "code",
      "metadata": {
        "id": "z1rqLV69sePv"
      },
      "source": [
        "import numpy as np\n",
        "import tensorflow.compat.v1 as tf\n",
        "import time\n",
        "import math\n",
        "import sys"
      ],
      "execution_count": 84,
      "outputs": []
    },
    {
      "cell_type": "code",
      "metadata": {
        "colab": {
          "base_uri": "https://localhost:8080/"
        },
        "id": "CQjMwMD1gZk4",
        "outputId": "3d6b8ef9-a37e-4a6e-f5ea-06cbf11ccf26"
      },
      "source": [
        "__author__ = 'jasperz'\n",
        "# This code was created with\n",
        "# python 3.5\n",
        "# tensorflow 1.7\n",
        "# cuda 9.0\n",
        "# cudnn 7.0\n",
        "\n",
        "\n",
        "import os\n",
        "#os.environ['TF_CPP_MIN_LOG_LEVEL'] = '3'\n",
        "#os.environ['CUDA_VISIBLE_DEVICES'] = '1'\n",
        "\n",
        "import numpy as np\n",
        "import tensorflow.compat.v1 as tf\n",
        "import time\n",
        "import math\n",
        "import sys\n",
        "\n",
        "\n",
        "# An object of this class represents a neural network, which you can build, print, train, evaluate, save and load.\n",
        "# Below, the functions are discussed in detail.\n",
        "\n",
        "class NetworkModel:\n",
        "    tf.disable_v2_behavior()\n",
        "    # The constructor for the NetworkModel class comes with one optional argument. If no filename is given in input,\n",
        "    # it just creates a new, empty neural network model from scratch. If a filename is given, it loads a model that was\n",
        "    # previously saved to that file using the saveModel(...) function. Note that loaded files can only be used for\n",
        "    # evaluation, and not for (re)training or adding extra layers.\n",
        "    def __init__(self, file_to_load = None):\n",
        "        tf.reset_default_graph()\n",
        "        self.all_layers = []\n",
        "\n",
        "        gpu_options = tf.GPUOptions(per_process_gpu_memory_fraction=0.1)\n",
        "        config = tf.ConfigProto(gpu_options=gpu_options)\n",
        "        config.gpu_options.allow_growth = True\n",
        "\n",
        "        self.sess = tf.Session(config=config)\n",
        "\n",
        "        if not file_to_load:\n",
        "            self.X_placeholder = tf.placeholder(tf.float32, [None, 200, 4],name='X_placeholder')\n",
        "            self.Y_placeholder = tf.placeholder(tf.float32, [None, 2],name='Y_placeholder')\n",
        "            self.loaded = False\n",
        "            self.nn = None\n",
        "        else:\n",
        "            self.loaded = True\n",
        "            self._loadNetworkParameters('models/'+file_to_load)\n",
        "            self.X_placeholder = tf.get_default_graph().get_tensor_by_name('X_placeholder:0')\n",
        "            self.Y_placeholder = tf.get_default_graph().get_tensor_by_name('Y_placeholder:0')\n",
        "            self.predictions_softmax = tf.get_default_graph().get_tensor_by_name('softmax_prediction:0')\n",
        "\n",
        "    # This function adds an input layer to the network. This is the first layer that should be added to every network\n",
        "    # model.\n",
        "    def addInputLayer(self):\n",
        "        assert len(self.all_layers) == 0, 'The input layer should be the first layer of the network, and can only be added once.'\n",
        "        self.all_layers.append(('Input layer','',self.X_placeholder))\n",
        "\n",
        "    # This function adds a convolutional layer to the network, with the specified arguments. You should always specify\n",
        "    # the number of filters (with an upper limit of 500), and the filter width (with an upper limit of 64). There is\n",
        "    # also an optional argument which lets you choose whether or not zero padding is added (as explained in the lecture\n",
        "    # slides). After each convolutional layer, a rectified linear unit (ReLU) is automatically added for\n",
        "    # non-linearization purposes.\n",
        "    def addConvLayer(self, num_of_filters, filter_width, zero_padding = True):\n",
        "        assert len(self.all_layers) > 0 and self.all_layers[0][0].startswith('Input layer')\n",
        "        assert zero_padding in (True,False), 'zero_padding should be True or False (boolean)'\n",
        "        assert 0 < num_of_filters < 500, 'The number of filters specified should be a positive number, smaller than 500'\n",
        "        assert 0 < filter_width < 64, 'The width of your filters should be a positive number, smaller than 64'\n",
        "        assert len(self.all_layers)+1 < 21, 'The total amount of layers should be at most 20'\n",
        "        assert 'Fully-connected layer' not in [typ for typ,_,_ in self.all_layers], 'You cannot add a convolutional layer after a fully-connected layer'\n",
        "        assert 'Softmax (output) layer' not in [typ for typ,_,_ in self.all_layers], 'You cannot add a convolutional layer after a softmax layer'\n",
        "        prev_width = self.all_layers[-1][-1].shape[1]\n",
        "        assert zero_padding or prev_width >= filter_width, 'You cannot add a (non-zeropadded) convolution of width {} when the previous layer has an output width of {}'.format(filter_width,prev_width)\n",
        "        self.all_layers.append(('Convolutional layer',\n",
        "                                '{} filters, width {}, {}zero padding, with ReLU'.format(num_of_filters,\n",
        "                                                                                         filter_width,\n",
        "                                                                                         'no ' if not zero_padding else ''),\n",
        "                                tf.layers.conv1d(self.all_layers[-1][-1],\n",
        "                                                 filters=num_of_filters,\n",
        "                                                 kernel_size=filter_width,\n",
        "                                                 activation=tf.nn.relu,\n",
        "                                                 padding='same' if zero_padding else 'valid')))\n",
        "\n",
        "    # This function adds a max pooling layer to the network, with the specified pool size (with an upper limit of 50).\n",
        "    def addMaxPoolLayer(self, pool_size):\n",
        "        assert len(self.all_layers) > 0 and self.all_layers[0][0].startswith('Input layer')\n",
        "        assert 'Fully-connected layer' not in [typ for typ,_,_ in self.all_layers], 'You cannot add a pooling layer after a fully-connected layer'\n",
        "        assert 'Softmax (output) layer' not in [typ for typ,_,_ in self.all_layers], 'You cannot add a pooling layer after a softmax layer'\n",
        "        assert len(self.all_layers)+1 < 21, 'The total amount of layers should be at most 20'\n",
        "        assert 0 < pool_size < 50, 'The pool size should be lower than 50'\n",
        "        prev_width = self.all_layers[-1][-1].shape[1]\n",
        "        assert prev_width >= pool_size, 'You cannot add a pooling layer with pool size {} when the previous layer has an output width of {}'.format(pool_size,prev_width)\n",
        "        self.all_layers.append(('Max pooling layer',\n",
        "                                'pool size {}'.format(pool_size),\n",
        "                                tf.layers.max_pooling1d(self.all_layers[-1][-1],\n",
        "                                                        pool_size=pool_size,\n",
        "                                                        strides=pool_size)))\n",
        "    # This function adds a fully-connected layer to the network, with the specified number of neurons (with an upper\n",
        "    # limit of 1000). If it is the first fully-connected layer in the network, it will also add a flatten layer first,\n",
        "    # which reduces the dimensionality after the convolutional/pooling layers. For instance, if the output of the last\n",
        "    # pooling layer is (?, 20, 100), the flatten layer will change this to (?, 2000). It is also no longer possible to\n",
        "    # add convolutional or pooling layers after this. After each fully-connected layer, a rectified linear unit (ReLU)\n",
        "    # is automatically added for non-linearization purposes.\n",
        "    def addFullyConnectedLayer(self,num_of_neurons):\n",
        "        assert len(self.all_layers) > 0 and self.all_layers[0][0].startswith('Input layer')\n",
        "        assert 'Softmax (output) layer' not in [typ for typ,_,_ in self.all_layers], 'You cannot add a fully-connected layer after a softmax layer'\n",
        "        assert len(self.all_layers)+1 < 21, 'The total amount of layers should be at most 20'\n",
        "        assert 0 < num_of_neurons < 1000, 'The amount of neurons in this layer should be a positive number, lower than 2000'\n",
        "        if len(self.all_layers[-1][-1].shape) > 2:\n",
        "            self.all_layers.append(('Flatten layer',\n",
        "                                    '',\n",
        "                                   tf.layers.flatten(self.all_layers[-1][-1])))\n",
        "        self.all_layers.append(('Fully-connected layer',\n",
        "                                '{} neurons, with ReLU'.format(num_of_neurons),\n",
        "                                tf.layers.dense(self.all_layers[-1][-1],num_of_neurons)))\n",
        "\n",
        "    # This function adds an output layer to the network, which has two neurons: one for negative classification and one\n",
        "    # for positive classification. A softmax calculation is also done, so that the probabilities that are outputted by\n",
        "    # both neurons add up to 1. Once an output layer is added, no other layers can be added anymore.\n",
        "    def addOutputLayer(self):\n",
        "        assert len(self.all_layers) > 0 and self.all_layers[0][0].startswith('Input layer')\n",
        "        assert 'Softmax (output) layer' not in [typ for typ,_,_ in self.all_layers], 'You cannot add a softmax (output) layer after a softmax layer'\n",
        "        assert len(self.all_layers)+1 < 21, 'The total amount of layers should be at most 20'\n",
        "        if len(self.all_layers[-1][-1].shape) > 2:\n",
        "            self.all_layers.append(('Flatten layer',\n",
        "                                    '',\n",
        "                                    tf.contrib.layers.flatten(self.all_layers[-1][-1])))\n",
        "        # assert no output layer yet\n",
        "        # assert # of layers\n",
        "        self.all_layers.append(('Softmax (output) layer',\n",
        "                                '2 neurons',\n",
        "                                tf.layers.dense(self.all_layers[-1][-1], 2,name='logits')))\n",
        "    # You can use this function for printing out an overview of the layers that you have added to the network. It can\n",
        "    # be not only be used for a completed network, but also intermediately, for a network that is still being built.\n",
        "    # The output is printed out, and will consist of three columns: the type of layer, the hyperparameters (such as the\n",
        "    # number of neurons) and the output size after this layer. This output size will be shown in a format (?, 200, 100).\n",
        "    # The question mark indicates the amount of input samples (which is not fixed), so in building your network you can\n",
        "    # ignore this.\n",
        "    def printDetails(self):\n",
        "        print('####################################')\n",
        "        print('Network information:')\n",
        "        # count all parameters:\n",
        "        total_parameters = 0\n",
        "        # iterating over all variables\n",
        "        for variable in tf.trainable_variables():\n",
        "            local_parameters = 1\n",
        "            shape = variable.get_shape()  # getting shape of a variable\n",
        "            for i in shape:\n",
        "                local_parameters *= i.value  # mutiplying dimension values\n",
        "            total_parameters += local_parameters\n",
        "        print('This network has {} trainable parameters.'.format(total_parameters))\n",
        "\n",
        "        for i,(name,info,l) in enumerate(self.all_layers):\n",
        "            try:\n",
        "                print('{: >2d}. {:23} {:50} -> Output size: {}'.format(i, name, info, l.shape))\n",
        "            except AttributeError:\n",
        "                pass\n",
        "        print('')\n",
        "        print('####################################')\n",
        "\n",
        "\n",
        "    # To train the network, you will first need to read in the datasets, and convert the sequences to the right format.\n",
        "    # More in this format will follow in the assignments. After supplying the training and validation sets, you need to\n",
        "    # specify for how many epochs you want to train (maximum 100). The training and validation costes and accuracies\n",
        "    # will be shown on the screen.\n",
        "    def train(self, trainX, trainY, validX, validY, n_epochs):\n",
        "        print('####################################')\n",
        "        assert 'Input layer' in [typ for typ,_,_ in self.all_layers], 'You cannot train a model without an input layer'\n",
        "        assert 'Softmax (output) layer' in [typ for typ,_,_ in self.all_layers], 'You cannot train a model without an output layer'\n",
        "        assert self.loaded == False, 'You can not (re)train a model loaded from a file.'\n",
        "        assert 1 < n_epochs < 100, 'The number of epochs should be greater than 1 and lower than 100'\n",
        "        assert all(type(l) == list for l in (trainX, trainY, validX, validY)), 'trainX, trainY, validX and validY should all be lists'\n",
        "        assert all(len(l) > 0 for l in (trainX, trainY, validX, validY)), 'trainX, trainY, validX and validY should not be empty'\n",
        "\n",
        "        assert len(trainX) == len(trainY), 'trainX and trainY should have the same amount of samples'\n",
        "        assert len(trainX[0]) == 200 and len(trainX[0][0]) == 4 and type(trainX[0][0][0]) == int, 'trainX should have size (_, 200, 4) and should contain integers'\n",
        "        assert type(trainY[0]) == int, 'trainY should have length n (for n sequences) and should contain integers'\n",
        "\n",
        "        assert len(validX) == len(validY), 'validX and validY should have the same amount of samples'\n",
        "        assert len(validX[0]) == 200 and len(validX[0][0]) == 4 and type(validX[0][0][0]) == int, 'validX should have size (_, 200, 4) and should contain integers'\n",
        "        assert type(validY[0]) == int, 'validY should have length n (for n sequences) and should contain integers'\n",
        "        # assert input and output layer\n",
        "        self._prepare_training()\n",
        "\n",
        "        self.sess.run(tf.global_variables_initializer())\n",
        "        self.sess.run(tf.local_variables_initializer())\n",
        "        train_dataset = _Dataset(trainX, trainY)\n",
        "        valid_dataset = _Dataset(validX, validY)\n",
        "        self._printOutputClasses(train_dataset,'training')\n",
        "        self._printOutputClasses(valid_dataset,'validation')\n",
        "\n",
        "        best_valid_score = 999999\n",
        "        print()\n",
        "        print(' {:^5} | {:^14} | {:^14} | {:^11} | {:^11} | {:^8} '.format('epoch','train cost','valid cost','train acc','valid acc','time'))\n",
        "        print('-{:-^6}+{:-^16}+{:-^16}+{:-^13}+{:-^13}+{:-^9}-'.format('','','','','',''))\n",
        "\n",
        "        tr_cost, tr_acc = self._evaluateSet(train_dataset)\n",
        "        va_cost, va_acc = self._evaluateSet(valid_dataset)\n",
        "        print(' {:5d} |   {:2.8f}   |   {:2.8f}   |  {:1.7f}  | {:1.7f}  | {:4.2f}s '.format(0,tr_cost,tr_acc,va_cost,va_acc,0))\n",
        "\n",
        "        for epoch in range(1,n_epochs+1):\n",
        "            epoch_start_time = time.time()\n",
        "            epoch_finished = False\n",
        "            while not epoch_finished:\n",
        "                batch_x, batch_y, epoch_finished = train_dataset.next_batch(256)\n",
        "                self.sess.run(self.train_op, feed_dict={self.X_placeholder: batch_x, self.Y_placeholder: batch_y})\n",
        "            tr_cost, tr_acc = self._evaluateSet(train_dataset)\n",
        "            va_cost, va_acc = self._evaluateSet(valid_dataset)\n",
        "\n",
        "            if va_cost < best_valid_score:\n",
        "                best_valid_score = va_cost\n",
        "                message = '-> model selected'\n",
        "                self._storeNetworkParameters('models/tmp')\n",
        "            else:\n",
        "                message = ''\n",
        "            print(' {:5d} |   {:2.8f}   |   {:2.8f}   |  {:1.7f}  | {:1.7f}  | {:4.2f}s {}'.format(epoch,tr_cost,va_cost,tr_acc,va_acc,time.time()-epoch_start_time,message))\n",
        "\n",
        "        self._loadNetworkParameters('models/tmp')\n",
        "        print('Finished training')\n",
        "        print('####################################')\n",
        "\n",
        "    # This is the function you will use to generate predictions for a certain dataset. In input, you give a list of\n",
        "    # sequences, in the one-hot encoding format (again, see the assignments). It will output a list of probabilities\n",
        "    # as calculated by the network. The list is a two-dimensional list of size (n, 2), with n being the number of\n",
        "    # sequences in testX. This means that the list will be a list will contain n lists of size 2, each containing the\n",
        "    # negative and positive probability for the prediction.\n",
        "    def generatePredictions(self, testX):\n",
        "        assert len(testX[0]) == 200 and len(testX[0][0]) == 4 and type(testX[0][0][0]) == int, 'testX should have size (_, 200, 4) and should contain integers'\n",
        "        assert self.loaded or 'Input layer' in [typ for typ,_,_ in self.all_layers], 'You cannot test a model without an input layer'\n",
        "        assert self.loaded or 'Softmax (output) layer' in [typ for typ,_,_ in self.all_layers], 'You cannot test a model without an output layer'\n",
        "        # assert input and output layer\n",
        "        all_preds = []\n",
        "        for i in range(math.ceil(len(testX)/256)):\n",
        "            batch_x = np.asarray(testX[i*256:(i+1)*256])\n",
        "            preds = self.sess.run(self.predictions_softmax,feed_dict={self.X_placeholder:batch_x})\n",
        "            for i in range(len(preds)):\n",
        "                all_preds.append((preds[i][0],preds[i][1]))\n",
        "        return all_preds\n",
        "\n",
        "    # At any time, you can save your current model (with its layers and trained parameters) to a file. However, it\n",
        "    # really only makes sense to do this after training. To load this model again, create a new NetworkModel object,\n",
        "    # and specify the same filename in the file_to_load parameter. Note: after loading a model, it cannot be\n",
        "    # (re)trained.\n",
        "    def saveModel(self, file_to_save_to):\n",
        "        assert 'Input layer' in [typ for typ,_,_ in self.all_layers], 'You cannot save a model without an input layer'\n",
        "        assert 'Softmax (output) layer' in [typ for typ,_,_ in self.all_layers], 'You cannot save a model without an output layer'\n",
        "        # assert input and output layer\n",
        "        assert not self.loaded, 'You cannot save a loaded model again.'\n",
        "        self._storeNetworkParameters('models/'+file_to_save_to)\n",
        "\n",
        "    def _prepare_training(self):\n",
        "        # assert all layers -1 == output layer\n",
        "        gs = tf.train.get_or_create_global_step()\n",
        "        self.predictions_softmax = tf.nn.softmax(self.all_layers[-1][-1],name='softmax_prediction')\n",
        "\n",
        "        self.cost_f = tf.losses.softmax_cross_entropy(onehot_labels=self.Y_placeholder, logits=self.all_layers[-1][-1])\n",
        "        self.optimizer = tf.train.AdamOptimizer(learning_rate=0.001)\n",
        "        self.train_op = self.optimizer.minimize(loss=self.cost_f,global_step=gs)\n",
        "\n",
        "        self.acc_f, self.acc_op = tf.metrics.accuracy(labels=tf.argmax(self.Y_placeholder, axis=1),predictions=tf.argmax(self.predictions_softmax, axis=1),name='metric_acc')\n",
        "        self.metric_var_initializer = tf.variables_initializer(var_list=tf.get_collection(tf.GraphKeys.LOCAL_VARIABLES, scope='metric'))\n",
        "\n",
        "    def _evaluateSet(self, dataset):\n",
        "        self.sess.run(self.metric_var_initializer)\n",
        "        costs = []\n",
        "        batches_done = False\n",
        "        while not batches_done:\n",
        "            batch_x, batch_y, epoch_finished = dataset.next_batch(256)\n",
        "\n",
        "            cost_batch = self.sess.run(self.cost_f, feed_dict={self.X_placeholder: batch_x,self.Y_placeholder: batch_y})\n",
        "            _ = self.sess.run([self.acc_op], feed_dict={self.X_placeholder: batch_x,self.Y_placeholder: batch_y})\n",
        "            costs.extend([cost_batch] * len(batch_y))\n",
        "\n",
        "            if epoch_finished:\n",
        "                batches_done = True\n",
        "\n",
        "        accuracy = self.sess.run([self.acc_f])[0]\n",
        "        return np.average(costs),accuracy\n",
        "\n",
        "    def _printOutputClasses(self, dataset, label):\n",
        "        print()\n",
        "        counts = dataset.getClassCounts()\n",
        "        print('Number of {} examples: {}'.format(label,int(np.sum(counts))))\n",
        "        if len(counts) > 1:\n",
        "            print('Distribution of the {} set:'.format(label))\n",
        "            for i in range(min(10,len(counts))):\n",
        "                print('  # elements of class {} = {}'.format(i,int(counts[i])))\n",
        "\n",
        "    def _storeNetworkParameters(self, saveToDir):\n",
        "        try:\n",
        "            saver = tf.train.Saver()\n",
        "            if not os.path.exists(saveToDir):\n",
        "                os.makedirs(saveToDir)\n",
        "            saver.save(self.sess,saveToDir+'/'+saveToDir[saveToDir.rfind('/')+1:])\n",
        "        except Exception:\n",
        "            print('SOMETHING WENT WRONG WITH STORING SHIT JASPER!! ~~~~~~~~~~~~~~~~~~~~~~~~~~~~~~~~~~~~~~~~~')\n",
        "            print(sys.exc_info())\n",
        "            print('~~~~~~~~~~~~~~~~~~~~~~~~~~~~~~~~~~~~~~~~~~~~~~~~~~~~~~~~~~~~~~~~~~~~~~~~~~~~~~~~~~~~~~~~~')\n",
        "\n",
        "    def _loadNetworkParameters(self, saveToDir):\n",
        "        filename = saveToDir+'/'+saveToDir[saveToDir.rfind('/')+1:]\n",
        "        if self.loaded:\n",
        "            saver = tf.train.import_meta_graph(filename+'.meta')\n",
        "        else:\n",
        "            saver = tf.train.Saver()\n",
        "        saver.restore(self.sess, tf.train.latest_checkpoint(saveToDir))\n",
        "\n",
        "\n",
        "class _Dataset:\n",
        "\n",
        "    def __init__(self,x_data,y_data=None):\n",
        "        if isinstance(x_data,list):\n",
        "            x_data = np.asarray(x_data)\n",
        "\n",
        "        self.index_in_epoch = 0\n",
        "        self.x_data = x_data\n",
        "        self.num_samples = x_data.shape[0]\n",
        "\n",
        "        if y_data:\n",
        "            if isinstance(y_data,list):\n",
        "                y_data = self._convertY(y_data)\n",
        "                self.y_data = y_data\n",
        "        else:\n",
        "            self.y_data = []\n",
        "    def __len__(self):\n",
        "        return len(self.x_data)\n",
        "\n",
        "    def getClassCounts(self):\n",
        "        return np.sum(self.y_data,axis=0)\n",
        "\n",
        "    def _convertY(self, y_data):\n",
        "        out = np.zeros((len(y_data),2))\n",
        "        for i,cl in enumerate(y_data):\n",
        "            out[i][cl] = 1\n",
        "        return out\n",
        "\n",
        "    def next_batch(self,batch_size):\n",
        "        start = self.index_in_epoch\n",
        "        end = self.index_in_epoch + batch_size\n",
        "\n",
        "        if start == 0:\n",
        "            idx = np.arange(0, self.num_samples)  # get all possible indexes\n",
        "            np.random.shuffle(idx)  # shuffle indexes\n",
        "            self.x_data = self.x_data[idx]\n",
        "            if len(self.y_data) > 0:\n",
        "                self.y_data = self.y_data[idx]\n",
        "\n",
        "        if end < self.num_samples:\n",
        "            self.index_in_epoch = end\n",
        "            return self.x_data[start:end], self.y_data[start:end], False # epoch finished = False\n",
        "        else:\n",
        "            self.index_in_epoch = 0\n",
        "            return self.x_data[start:], self.y_data[start:], True #epoch finished = True\n",
        "\n",
        "\n",
        "    def stepsInEpoch(self,batch_size):\n",
        "        return math.ceil(len(self) / batch_size)\n",
        "\n",
        "    def getX(self):\n",
        "        return self.x_data\n",
        "\n",
        "    def getSequenceLength(self):\n",
        "        return len(self.x_data[0])"
      ],
      "execution_count": 85,
      "outputs": [
        {
          "output_type": "stream",
          "name": "stdout",
          "text": [
            "WARNING:tensorflow:From /usr/local/lib/python3.7/dist-packages/tensorflow/python/compat/v2_compat.py:111: disable_resource_variables (from tensorflow.python.ops.variable_scope) is deprecated and will be removed in a future version.\n",
            "Instructions for updating:\n",
            "non-resource variables are not supported in the long term\n"
          ]
        }
      ]
    },
    {
      "cell_type": "code",
      "metadata": {
        "id": "uzGOXfY5iOWv"
      },
      "source": [
        "def convertLines(lines):\n",
        "    newLines = []\n",
        "    for i in range(1, len(lines), 2):\n",
        "        line = lines[i]\n",
        "        newline = []\n",
        "        for c in line.strip():\n",
        "            c = c.upper()\n",
        "            if c == 'A':\n",
        "                v = [1,0,0,0]\n",
        "            elif c == 'C':\n",
        "                v = [0,1,0,0]\n",
        "            elif c == 'G':\n",
        "                v = [0,0,1,0]\n",
        "            elif c == 'T':\n",
        "                v = [0,0,0,1]\n",
        "            else:\n",
        "                v = [0, 0, 0, 0]\n",
        "            newline.append(v)\n",
        "        newLines.append(newline[:200])\n",
        "    return newLines"
      ],
      "execution_count": 144,
      "outputs": []
    },
    {
      "cell_type": "code",
      "metadata": {
        "id": "6mKpKrLyikkX"
      },
      "source": [
        "def readInputs(f1,f2):\n",
        "    lines_pos = open(f1).readlines()\n",
        "    lines_neg = open(f2).readlines()\n",
        "\n",
        "    X = []\n",
        "    Y = []\n",
        "\n",
        "    for l in convertLines(lines_pos):\n",
        "        X.append(l)\n",
        "        Y.append(1)\n",
        "    for l in convertLines(lines_neg):\n",
        "        X.append(l)\n",
        "        Y.append(0)\n",
        "\n",
        "    return X,Y"
      ],
      "execution_count": 108,
      "outputs": []
    },
    {
      "cell_type": "code",
      "metadata": {
        "id": "BC-fXaRduft4"
      },
      "source": [
        "X, y = readInputs(positive_name, negative_name)"
      ],
      "execution_count": 145,
      "outputs": []
    },
    {
      "cell_type": "code",
      "metadata": {
        "id": "Aopu5rXdvOrb"
      },
      "source": [
        "X_train, X_test, y_train, y_test = train_test_split(X, y, test_size=0.3, random_state=42)"
      ],
      "execution_count": 146,
      "outputs": []
    },
    {
      "cell_type": "code",
      "metadata": {
        "id": "icjzXH2cvpIC"
      },
      "source": [
        "X_train, X_val, y_train, y_val = train_test_split(X_train, y_train, test_size=0.2, random_state=4)"
      ],
      "execution_count": 147,
      "outputs": []
    },
    {
      "cell_type": "code",
      "metadata": {
        "id": "lVHv-XaglZN0"
      },
      "source": [
        "def regular_network():\n",
        "  net_model = NetworkModel()\n",
        "  net_model.addInputLayer()\n",
        "  net_model.addFullyConnectedLayer(100)\n",
        "  net_model.addFullyConnectedLayer(50)\n",
        "  net_model.addOutputLayer()\n",
        "  return net_model"
      ],
      "execution_count": 148,
      "outputs": []
    },
    {
      "cell_type": "code",
      "metadata": {
        "colab": {
          "base_uri": "https://localhost:8080/"
        },
        "id": "kwac_OVlm0hd",
        "outputId": "f68e57a0-208d-45df-b43e-c25125dcefbe"
      },
      "source": [
        "nm = regular_network()\n",
        "nm.printDetails()"
      ],
      "execution_count": 149,
      "outputs": [
        {
          "output_type": "stream",
          "name": "stdout",
          "text": [
            "####################################\n",
            "Network information:\n",
            "This network has 85252 trainable parameters.\n",
            " 0. Input layer                                                                -> Output size: (?, 200, 4)\n",
            " 1. Flatten layer                                                              -> Output size: (?, 800)\n",
            " 2. Fully-connected layer   100 neurons, with ReLU                             -> Output size: (?, 100)\n",
            " 3. Fully-connected layer   50 neurons, with ReLU                              -> Output size: (?, 50)\n",
            " 4. Softmax (output) layer  2 neurons                                          -> Output size: (?, 2)\n",
            "\n",
            "####################################\n"
          ]
        },
        {
          "output_type": "stream",
          "name": "stderr",
          "text": [
            "/usr/local/lib/python3.7/dist-packages/ipykernel_launcher.py:110: UserWarning: `tf.layers.flatten` is deprecated and will be removed in a future version. Please use `tf.keras.layers.Flatten` instead.\n",
            "/usr/local/lib/python3.7/dist-packages/keras/legacy_tf_layers/core.py:523: UserWarning: `layer.apply` is deprecated and will be removed in a future version. Please use `layer.__call__` method instead.\n",
            "  return layer.apply(inputs)\n",
            "/usr/local/lib/python3.7/dist-packages/ipykernel_launcher.py:113: UserWarning: `tf.layers.dense` is deprecated and will be removed in a future version. Please use `tf.keras.layers.Dense` instead.\n",
            "/usr/local/lib/python3.7/dist-packages/keras/legacy_tf_layers/core.py:255: UserWarning: `layer.apply` is deprecated and will be removed in a future version. Please use `layer.__call__` method instead.\n",
            "  return layer.apply(inputs)\n",
            "/usr/local/lib/python3.7/dist-packages/ipykernel_launcher.py:130: UserWarning: `tf.layers.dense` is deprecated and will be removed in a future version. Please use `tf.keras.layers.Dense` instead.\n"
          ]
        }
      ]
    },
    {
      "cell_type": "code",
      "metadata": {
        "colab": {
          "base_uri": "https://localhost:8080/"
        },
        "id": "Y2G1RHvyoy2z",
        "outputId": "9ebf20fd-375a-48f6-a1d2-1db603895378"
      },
      "source": [
        "nm.train(X_train, y_train, X_val, y_val,10)"
      ],
      "execution_count": 150,
      "outputs": [
        {
          "output_type": "stream",
          "name": "stdout",
          "text": [
            "####################################\n",
            "\n",
            "Number of training examples: 13822\n",
            "Distribution of the training set:\n",
            "  # elements of class 0 = 9158\n",
            "  # elements of class 1 = 4664\n",
            "\n",
            "Number of validation examples: 3456\n",
            "Distribution of the validation set:\n",
            "  # elements of class 0 = 2347\n",
            "  # elements of class 1 = 1109\n",
            "\n",
            " epoch |   train cost   |   valid cost   |  train acc  |  valid acc  |   time   \n",
            "-------+----------------+----------------+-------------+-------------+----------\n",
            "     0 |   0.83949828   |   0.48639849   |  0.8453541  | 0.4837963  | 0.00s \n",
            "     1 |   0.41802138   |   0.42564505   |  0.8070467  | 0.8032407  | 0.66s -> model selected\n",
            "     2 |   0.41032967   |   0.43148294   |  0.8186948  | 0.8084491  | 0.48s \n",
            "     3 |   0.42187056   |   0.43633306   |  0.7919983  | 0.7803819  | 0.46s \n",
            "     4 |   0.40263653   |   0.43353570   |  0.8189119  | 0.8064236  | 0.45s \n",
            "     5 |   0.40166831   |   0.43163955   |  0.8188396  | 0.8064236  | 0.45s \n",
            "     6 |   0.40769491   |   0.43214855   |  0.8014036  | 0.7945602  | 0.45s \n",
            "     7 |   0.39989343   |   0.43009722   |  0.8146433  | 0.8041088  | 0.48s \n",
            "     8 |   0.40537485   |   0.42895085   |  0.8139198  | 0.8012153  | 0.48s \n",
            "     9 |   0.40035442   |   0.43143412   |  0.8147157  | 0.8041088  | 0.45s \n",
            "    10 |   0.40102369   |   0.43653950   |  0.8130516  | 0.8017940  | 0.47s \n",
            "INFO:tensorflow:Restoring parameters from models/tmp/tmp\n",
            "Finished training\n",
            "####################################\n"
          ]
        }
      ]
    },
    {
      "cell_type": "code",
      "metadata": {
        "id": "OzmNFWaarMK8"
      },
      "source": [
        "def conv_network():\n",
        "  cnn_model = NetworkModel()\n",
        "  cnn_model.addInputLayer()\n",
        "  cnn_model.addConvLayer(10,7)\n",
        "  cnn_model.addMaxPoolLayer(5)\n",
        "  cnn_model.addConvLayer(20,5)\n",
        "  cnn_model.addMaxPoolLayer(5)\n",
        "  cnn_model.addFullyConnectedLayer(15)\n",
        "  cnn_model.addOutputLayer()\n",
        "  return cnn_model"
      ],
      "execution_count": 151,
      "outputs": []
    },
    {
      "cell_type": "code",
      "metadata": {
        "colab": {
          "base_uri": "https://localhost:8080/"
        },
        "id": "eiFWrs6xsW2f",
        "outputId": "ff46df5e-dbd4-480e-da04-5a4c8a1f5bb0"
      },
      "source": [
        "cnn = conv_network()\n",
        "cnn.printDetails()"
      ],
      "execution_count": 152,
      "outputs": [
        {
          "output_type": "stream",
          "name": "stdout",
          "text": [
            "####################################\n",
            "Network information:\n",
            "This network has 3757 trainable parameters.\n",
            " 0. Input layer                                                                -> Output size: (?, 200, 4)\n",
            " 1. Convolutional layer     10 filters, width 7, zero padding, with ReLU       -> Output size: (?, 200, 10)\n",
            " 2. Max pooling layer       pool size 5                                        -> Output size: (?, 40, 10)\n",
            " 3. Convolutional layer     20 filters, width 5, zero padding, with ReLU       -> Output size: (?, 40, 20)\n",
            " 4. Max pooling layer       pool size 5                                        -> Output size: (?, 8, 20)\n",
            " 5. Flatten layer                                                              -> Output size: (?, 160)\n",
            " 6. Fully-connected layer   15 neurons, with ReLU                              -> Output size: (?, 15)\n",
            " 7. Softmax (output) layer  2 neurons                                          -> Output size: (?, 2)\n",
            "\n",
            "####################################\n"
          ]
        },
        {
          "output_type": "stream",
          "name": "stderr",
          "text": [
            "/usr/local/lib/python3.7/dist-packages/ipykernel_launcher.py:80: UserWarning: `tf.layers.conv1d` is deprecated and will be removed in a future version. Please Use `tf.keras.layers.Conv1D` instead.\n",
            "/usr/local/lib/python3.7/dist-packages/keras/legacy_tf_layers/convolutional.py:288: UserWarning: `layer.apply` is deprecated and will be removed in a future version. Please use `layer.__call__` method instead.\n",
            "  return layer.apply(inputs)\n",
            "/usr/local/lib/python3.7/dist-packages/ipykernel_launcher.py:95: UserWarning: `tf.layers.max_pooling1d` is deprecated and will be removed in a future version. Please use `tf.keras.layers.MaxPooling1D` instead.\n",
            "/usr/local/lib/python3.7/dist-packages/keras/legacy_tf_layers/pooling.py:294: UserWarning: `layer.apply` is deprecated and will be removed in a future version. Please use `layer.__call__` method instead.\n",
            "  return layer.apply(inputs)\n",
            "/usr/local/lib/python3.7/dist-packages/ipykernel_launcher.py:110: UserWarning: `tf.layers.flatten` is deprecated and will be removed in a future version. Please use `tf.keras.layers.Flatten` instead.\n",
            "/usr/local/lib/python3.7/dist-packages/keras/legacy_tf_layers/core.py:523: UserWarning: `layer.apply` is deprecated and will be removed in a future version. Please use `layer.__call__` method instead.\n",
            "  return layer.apply(inputs)\n",
            "/usr/local/lib/python3.7/dist-packages/ipykernel_launcher.py:113: UserWarning: `tf.layers.dense` is deprecated and will be removed in a future version. Please use `tf.keras.layers.Dense` instead.\n",
            "/usr/local/lib/python3.7/dist-packages/keras/legacy_tf_layers/core.py:255: UserWarning: `layer.apply` is deprecated and will be removed in a future version. Please use `layer.__call__` method instead.\n",
            "  return layer.apply(inputs)\n",
            "/usr/local/lib/python3.7/dist-packages/ipykernel_launcher.py:130: UserWarning: `tf.layers.dense` is deprecated and will be removed in a future version. Please use `tf.keras.layers.Dense` instead.\n"
          ]
        }
      ]
    },
    {
      "cell_type": "code",
      "metadata": {
        "colab": {
          "base_uri": "https://localhost:8080/"
        },
        "id": "-fUrKoXgtBIi",
        "outputId": "92b11421-5e7a-4797-d498-fd083229d5b8"
      },
      "source": [
        "cnn.train(X_train, y_train, X_val, y_val,10)"
      ],
      "execution_count": 154,
      "outputs": [
        {
          "output_type": "stream",
          "name": "stdout",
          "text": [
            "####################################\n",
            "\n",
            "Number of training examples: 13822\n",
            "Distribution of the training set:\n",
            "  # elements of class 0 = 9158\n",
            "  # elements of class 1 = 4664\n",
            "\n",
            "Number of validation examples: 3456\n",
            "Distribution of the validation set:\n",
            "  # elements of class 0 = 2347\n",
            "  # elements of class 1 = 1109\n",
            "\n",
            " epoch |   train cost   |   valid cost   |  train acc  |  valid acc  |   time   \n",
            "-------+----------------+----------------+-------------+-------------+----------\n",
            "     0 |   0.82102734   |   0.34097815   |  0.8320451  | 0.3249421  | 0.00s \n",
            "     1 |   0.42558420   |   0.41373366   |  0.7963392  | 0.8113426  | 1.81s -> model selected\n",
            "     2 |   0.40807721   |   0.39934757   |  0.8051656  | 0.8136574  | 0.86s -> model selected\n",
            "     3 |   0.39989612   |   0.39709601   |  0.8151498  | 0.8217593  | 0.79s -> model selected\n",
            "     4 |   0.39135450   |   0.38695413   |  0.8138475  | 0.8194444  | 0.80s -> model selected\n",
            "     5 |   0.38273507   |   0.38099849   |  0.8202142  | 0.8246528  | 0.79s -> model selected\n",
            "     6 |   0.37460580   |   0.38022441   |  0.8325858  | 0.8315972  | 0.80s -> model selected\n",
            "     7 |   0.35921070   |   0.36464390   |  0.8388077  | 0.8359375  | 0.82s -> model selected\n",
            "     8 |   0.34740353   |   0.35753503   |  0.8483577  | 0.8440394  | 0.82s -> model selected\n",
            "     9 |   0.33853748   |   0.35365370   |  0.8560266  | 0.8501157  | 0.82s -> model selected\n",
            "    10 |   0.33259523   |   0.35051066   |  0.8602228  | 0.8530093  | 0.81s -> model selected\n",
            "INFO:tensorflow:Restoring parameters from models/tmp/tmp\n",
            "Finished training\n",
            "####################################\n"
          ]
        }
      ]
    },
    {
      "cell_type": "code",
      "metadata": {
        "id": "7QMva7LVxDYK"
      },
      "source": [
        "pred = cnn.generatePredictions(X_test)"
      ],
      "execution_count": 157,
      "outputs": []
    },
    {
      "cell_type": "code",
      "metadata": {
        "id": "vAlcCm36xriK"
      },
      "source": [
        "def recall(preds,labs):\n",
        "    tp,tn,fn,fp = 0,0,0,0\n",
        "    for (_,p),l in zip(preds,labs):\n",
        "        if p >= .5 and l == 1:\n",
        "            tp += 1\n",
        "        elif p < .5 and l == 1:\n",
        "            fn += 1\n",
        "        elif p >= .5 and l == 0:\n",
        "            fp += 1\n",
        "        else:\n",
        "            tn += 1\n",
        "    return tp / (tp + fn)\n",
        "\n",
        "\n",
        "def precision(preds,labs):\n",
        "    tp,tn,fn,fp = 0,0,0,0\n",
        "    for (_,p),l in zip(preds,labs):\n",
        "        if p >= .5 and l == 1:\n",
        "            tp += 1\n",
        "        elif p < .5 and l == 1:\n",
        "            fn += 1\n",
        "        elif p >= .5 and l == 0:\n",
        "            fp += 1\n",
        "        else:\n",
        "            tn += 1\n",
        "    return tp / (tp + fp)\n",
        "\n",
        "def f1(preds,labs):\n",
        "    r,p = recall(preds,labs), precision(preds,labs)\n",
        "    return 2 * r * p / (r + p)"
      ],
      "execution_count": 158,
      "outputs": []
    },
    {
      "cell_type": "code",
      "metadata": {
        "colab": {
          "base_uri": "https://localhost:8080/"
        },
        "id": "Fz2TA_Zzy00g",
        "outputId": "a6a76d49-f72d-4c63-f52d-43e6e37ec1fd"
      },
      "source": [
        "print(recall(pred,y_test))\n",
        "print(precision(pred,y_test))\n",
        "print(f1(pred,y_test))"
      ],
      "execution_count": 160,
      "outputs": [
        {
          "output_type": "stream",
          "name": "stdout",
          "text": [
            "0.8296658516707417\n",
            "0.7390199637023593\n",
            "0.781723939335765\n"
          ]
        }
      ]
    },
    {
      "cell_type": "markdown",
      "metadata": {
        "id": "Z6mQee9BynTN"
      },
      "source": [
        "В принципе ок результаты, если не учитывать, что данные мы знатно потрепали"
      ]
    }
  ]
}